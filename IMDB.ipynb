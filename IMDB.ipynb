{
  "cells": [
    {
      "cell_type": "markdown",
      "source": [
        "\n",
        "# IMDB Dataset of 50K Movie Reviews\n",
        "\n"
      ],
      "metadata": {
        "id": "nqwgDlDVEsCz"
      }
    },
    {
      "cell_type": "markdown",
      "source": [
        "\n",
        "In this notebook, we perform a sentiment analysis on a Kaggle dataset of movie reviews. Here is the description from Kaggle:\n",
        "\n",
        "> *IMDB dataset having 50K movie reviews for natural language processing or Text analytics. This is a dataset for binary sentiment classification containing substantially more data than previous benchmark datasets. We provide a set of 25,000 highly polar movie reviews for training and 25,000 for testing. So, predict the number of positive and negative reviews using either classification or deep learning algorithms.*\n",
        "\n",
        "\n",
        "Our approach features a recurrent neural network with a long short-term memory (LSTM) cell. Step-by-step:\n",
        "\n",
        "* Obtain the data from Kaggle.\n",
        "\n",
        "* Split the data into train and test set as indicated (25K each).\n",
        "\n",
        "* Preprocess the data by tokenizing words and forming a vocabulary.\n",
        "\n",
        "* Form the LSTM neural network model.  \n",
        "\n",
        "* Train the model using stochastic gradient descent. Due to GPU constraints, I was not able to train on the entire data set.\n",
        "\n",
        "* Evaluate the model on the test set.\n",
        "\n",
        "We begin with standard imports:"
      ],
      "metadata": {
        "id": "fb96xmD5hU5D"
      }
    },
    {
      "cell_type": "code",
      "execution_count": 1,
      "metadata": {
        "id": "PMTsjMFVehwY"
      },
      "outputs": [],
      "source": [
        "%matplotlib inline\n",
        "import pandas as pd\n",
        "import torch\n",
        "from torch import nn\n",
        "import torch.optim as optim\n",
        "from matplotlib import pyplot as plt\n",
        "import csv"
      ]
    },
    {
      "cell_type": "markdown",
      "source": [
        "## 1. Obtain the data from Kaggle\n",
        "\n",
        "The first step is to obtain the data from Kaggle. This notebook is intended to be run in Google CoLab, so the first step is to mount google drive:\n",
        "\n",
        "<!-- We follow the instructions on this [page](https://towardsdatascience.com/downloading-kaggle-datasets-directly-into-google-colab-c8f0f407d73a).  -->"
      ],
      "metadata": {
        "id": "K5NvKwkZIKOb"
      }
    },
    {
      "cell_type": "code",
      "source": [
        "from google.colab import drive\n",
        "drive.mount('/gdrive')"
      ],
      "metadata": {
        "colab": {
          "base_uri": "https://localhost:8080/"
        },
        "id": "RSkHqQZV_S2Y",
        "outputId": "33276616-8072-450a-c111-3c2e3e92473c"
      },
      "execution_count": 2,
      "outputs": [
        {
          "output_type": "stream",
          "name": "stdout",
          "text": [
            "Drive already mounted at /gdrive; to attempt to forcibly remount, call drive.mount(\"/gdrive\", force_remount=True).\n"
          ]
        }
      ]
    },
    {
      "cell_type": "markdown",
      "source": [
        "\n",
        "We set the Kaggle configuration directory to be where the kaggle.json token is located."
      ],
      "metadata": {
        "id": "UbKVH6cTHdGf"
      }
    },
    {
      "cell_type": "code",
      "source": [
        "import os\n",
        "os.environ['KAGGLE_CONFIG_DIR'] = '/gdrive/MyDrive/kaggle'"
      ],
      "metadata": {
        "id": "KPv9enSs_cqv"
      },
      "execution_count": 3,
      "outputs": []
    },
    {
      "cell_type": "markdown",
      "source": [
        "Download the movie reviews data (this requires installation of the kaggle package via `pip install kaggle`, if necessary).\n"
      ],
      "metadata": {
        "id": "6JgQP72HHlJN"
      }
    },
    {
      "cell_type": "code",
      "source": [
        "!kaggle datasets download -d lakshmi25npathi/imdb-dataset-of-50k-movie-reviews"
      ],
      "metadata": {
        "colab": {
          "base_uri": "https://localhost:8080/"
        },
        "id": "up6FxQUWAZAz",
        "outputId": "5d3c7ff6-c48b-4b40-e547-bd4b3c5e38ba"
      },
      "execution_count": 4,
      "outputs": [
        {
          "output_type": "stream",
          "name": "stdout",
          "text": [
            "imdb-dataset-of-50k-movie-reviews.zip: Skipping, found more recently modified local copy (use --force to force download)\n"
          ]
        }
      ]
    },
    {
      "cell_type": "markdown",
      "source": [
        "Finally, copy the zip to the virtual machine and unzip it there.\n"
      ],
      "metadata": {
        "id": "CaE6m6OtHvti"
      }
    },
    {
      "cell_type": "code",
      "source": [
        "zip_path = '/gdrive/MyDrive/kaggle/imdb-dataset-of-50k-movie-reviews.zip'\n",
        "!cp '{zip_path}' .\n",
        "!unzip -q 'imdb-dataset-of-50k-movie-reviews.zip'"
      ],
      "metadata": {
        "id": "3ESmJDY_BpO8",
        "colab": {
          "base_uri": "https://localhost:8080/"
        },
        "outputId": "ca3d0786-6fc4-4350-9395-3249e459518e"
      },
      "execution_count": 5,
      "outputs": [
        {
          "output_type": "stream",
          "name": "stdout",
          "text": [
            "replace IMDB Dataset.csv? [y]es, [n]o, [A]ll, [N]one, [r]ename: y\n"
          ]
        }
      ]
    },
    {
      "cell_type": "markdown",
      "source": [
        "Check the working directory to see that the necessary files are there.\n"
      ],
      "metadata": {
        "id": "ATlbs5xgH5Ip"
      }
    },
    {
      "cell_type": "code",
      "source": [
        "os.listdir()"
      ],
      "metadata": {
        "colab": {
          "base_uri": "https://localhost:8080/"
        },
        "id": "cqN_M0ZXF8IE",
        "outputId": "144eede0-8b49-4ce0-ca55-9fc76f5e1a60"
      },
      "execution_count": 6,
      "outputs": [
        {
          "output_type": "execute_result",
          "data": {
            "text/plain": [
              "['.config',\n",
              " 'IMDB Dataset.csv',\n",
              " 'imdb-dataset-of-50k-movie-reviews.zip',\n",
              " 'sample_data']"
            ]
          },
          "metadata": {},
          "execution_count": 6
        }
      ]
    },
    {
      "cell_type": "markdown",
      "source": [
        "## 2. Preprocessing\n",
        "\n",
        "To process the data, the first step is to read the data into a pandas dataframe."
      ],
      "metadata": {
        "id": "9d44PVprH9va"
      }
    },
    {
      "cell_type": "code",
      "execution_count": 7,
      "metadata": {
        "id": "QqJ2vkbqehwa"
      },
      "outputs": [],
      "source": [
        "data = pd.read_csv(\"IMDB Dataset.csv\", lineterminator='\\n', converters={\"review\": str(), \"sentiment\": str()})"
      ]
    },
    {
      "cell_type": "markdown",
      "source": [
        "Next, we split the data into train and test sets. Following the description on Kaggle, the split is 50/50.\n"
      ],
      "metadata": {
        "id": "c0kbsM8gxgGy"
      }
    },
    {
      "cell_type": "code",
      "source": [
        "train_size = int(len(data)*0.5)\n",
        "test_size = len(data) - train_size"
      ],
      "metadata": {
        "id": "O9N5qYzTxe_I"
      },
      "execution_count": 8,
      "outputs": []
    },
    {
      "cell_type": "markdown",
      "source": [
        "Shuffle all the data (`fraction = 1`), and split the shuffled data into the train and test sets."
      ],
      "metadata": {
        "id": "VTpkmFhkx5Z_"
      }
    },
    {
      "cell_type": "code",
      "source": [
        "shuffled_data = data.sample(frac=1)\n",
        "train_data, test_data = shuffled_data[:25000].copy(), shuffled_data[25000:].copy()\n",
        "train_data"
      ],
      "metadata": {
        "colab": {
          "base_uri": "https://localhost:8080/",
          "height": 424
        },
        "id": "8nBMM4LCx58l",
        "outputId": "feed9866-85c6-40f7-b9ea-f28f2a7b3938"
      },
      "execution_count": 9,
      "outputs": [
        {
          "output_type": "execute_result",
          "data": {
            "text/plain": [
              "                                                  review sentiment\n",
              "23187  If you thought this is the french The Mummy an...  negative\n",
              "47959  I have always been interested in anything abou...  negative\n",
              "22787  Ok, I will make this review short and to the p...  negative\n",
              "5462   Wow! I caught this on IFC recently after I wat...  positive\n",
              "47545  \"Nat\" (voiced by Trevor Gagnon), along with hi...  negative\n",
              "...                                                  ...       ...\n",
              "23034  Samuel Fuller's Pickup on South Street is anom...  positive\n",
              "11929  Governments are elected for three year terms, ...  positive\n",
              "43309  Men In Black 2 was a real disappointment for m...  negative\n",
              "40115  Now before people start having a breakdown abo...  positive\n",
              "20694  I've watched this movie, after having seen the...  negative\n",
              "\n",
              "[25000 rows x 2 columns]"
            ],
            "text/html": [
              "\n",
              "  <div id=\"df-01b82fe6-ed6f-4734-ac7e-36bc93811022\" class=\"colab-df-container\">\n",
              "    <div>\n",
              "<style scoped>\n",
              "    .dataframe tbody tr th:only-of-type {\n",
              "        vertical-align: middle;\n",
              "    }\n",
              "\n",
              "    .dataframe tbody tr th {\n",
              "        vertical-align: top;\n",
              "    }\n",
              "\n",
              "    .dataframe thead th {\n",
              "        text-align: right;\n",
              "    }\n",
              "</style>\n",
              "<table border=\"1\" class=\"dataframe\">\n",
              "  <thead>\n",
              "    <tr style=\"text-align: right;\">\n",
              "      <th></th>\n",
              "      <th>review</th>\n",
              "      <th>sentiment</th>\n",
              "    </tr>\n",
              "  </thead>\n",
              "  <tbody>\n",
              "    <tr>\n",
              "      <th>23187</th>\n",
              "      <td>If you thought this is the french The Mummy an...</td>\n",
              "      <td>negative</td>\n",
              "    </tr>\n",
              "    <tr>\n",
              "      <th>47959</th>\n",
              "      <td>I have always been interested in anything abou...</td>\n",
              "      <td>negative</td>\n",
              "    </tr>\n",
              "    <tr>\n",
              "      <th>22787</th>\n",
              "      <td>Ok, I will make this review short and to the p...</td>\n",
              "      <td>negative</td>\n",
              "    </tr>\n",
              "    <tr>\n",
              "      <th>5462</th>\n",
              "      <td>Wow! I caught this on IFC recently after I wat...</td>\n",
              "      <td>positive</td>\n",
              "    </tr>\n",
              "    <tr>\n",
              "      <th>47545</th>\n",
              "      <td>\"Nat\" (voiced by Trevor Gagnon), along with hi...</td>\n",
              "      <td>negative</td>\n",
              "    </tr>\n",
              "    <tr>\n",
              "      <th>...</th>\n",
              "      <td>...</td>\n",
              "      <td>...</td>\n",
              "    </tr>\n",
              "    <tr>\n",
              "      <th>23034</th>\n",
              "      <td>Samuel Fuller's Pickup on South Street is anom...</td>\n",
              "      <td>positive</td>\n",
              "    </tr>\n",
              "    <tr>\n",
              "      <th>11929</th>\n",
              "      <td>Governments are elected for three year terms, ...</td>\n",
              "      <td>positive</td>\n",
              "    </tr>\n",
              "    <tr>\n",
              "      <th>43309</th>\n",
              "      <td>Men In Black 2 was a real disappointment for m...</td>\n",
              "      <td>negative</td>\n",
              "    </tr>\n",
              "    <tr>\n",
              "      <th>40115</th>\n",
              "      <td>Now before people start having a breakdown abo...</td>\n",
              "      <td>positive</td>\n",
              "    </tr>\n",
              "    <tr>\n",
              "      <th>20694</th>\n",
              "      <td>I've watched this movie, after having seen the...</td>\n",
              "      <td>negative</td>\n",
              "    </tr>\n",
              "  </tbody>\n",
              "</table>\n",
              "<p>25000 rows × 2 columns</p>\n",
              "</div>\n",
              "    <div class=\"colab-df-buttons\">\n",
              "\n",
              "  <div class=\"colab-df-container\">\n",
              "    <button class=\"colab-df-convert\" onclick=\"convertToInteractive('df-01b82fe6-ed6f-4734-ac7e-36bc93811022')\"\n",
              "            title=\"Convert this dataframe to an interactive table.\"\n",
              "            style=\"display:none;\">\n",
              "\n",
              "  <svg xmlns=\"http://www.w3.org/2000/svg\" height=\"24px\" viewBox=\"0 -960 960 960\">\n",
              "    <path d=\"M120-120v-720h720v720H120Zm60-500h600v-160H180v160Zm220 220h160v-160H400v160Zm0 220h160v-160H400v160ZM180-400h160v-160H180v160Zm440 0h160v-160H620v160ZM180-180h160v-160H180v160Zm440 0h160v-160H620v160Z\"/>\n",
              "  </svg>\n",
              "    </button>\n",
              "\n",
              "  <style>\n",
              "    .colab-df-container {\n",
              "      display:flex;\n",
              "      gap: 12px;\n",
              "    }\n",
              "\n",
              "    .colab-df-convert {\n",
              "      background-color: #E8F0FE;\n",
              "      border: none;\n",
              "      border-radius: 50%;\n",
              "      cursor: pointer;\n",
              "      display: none;\n",
              "      fill: #1967D2;\n",
              "      height: 32px;\n",
              "      padding: 0 0 0 0;\n",
              "      width: 32px;\n",
              "    }\n",
              "\n",
              "    .colab-df-convert:hover {\n",
              "      background-color: #E2EBFA;\n",
              "      box-shadow: 0px 1px 2px rgba(60, 64, 67, 0.3), 0px 1px 3px 1px rgba(60, 64, 67, 0.15);\n",
              "      fill: #174EA6;\n",
              "    }\n",
              "\n",
              "    .colab-df-buttons div {\n",
              "      margin-bottom: 4px;\n",
              "    }\n",
              "\n",
              "    [theme=dark] .colab-df-convert {\n",
              "      background-color: #3B4455;\n",
              "      fill: #D2E3FC;\n",
              "    }\n",
              "\n",
              "    [theme=dark] .colab-df-convert:hover {\n",
              "      background-color: #434B5C;\n",
              "      box-shadow: 0px 1px 3px 1px rgba(0, 0, 0, 0.15);\n",
              "      filter: drop-shadow(0px 1px 2px rgba(0, 0, 0, 0.3));\n",
              "      fill: #FFFFFF;\n",
              "    }\n",
              "  </style>\n",
              "\n",
              "    <script>\n",
              "      const buttonEl =\n",
              "        document.querySelector('#df-01b82fe6-ed6f-4734-ac7e-36bc93811022 button.colab-df-convert');\n",
              "      buttonEl.style.display =\n",
              "        google.colab.kernel.accessAllowed ? 'block' : 'none';\n",
              "\n",
              "      async function convertToInteractive(key) {\n",
              "        const element = document.querySelector('#df-01b82fe6-ed6f-4734-ac7e-36bc93811022');\n",
              "        const dataTable =\n",
              "          await google.colab.kernel.invokeFunction('convertToInteractive',\n",
              "                                                    [key], {});\n",
              "        if (!dataTable) return;\n",
              "\n",
              "        const docLinkHtml = 'Like what you see? Visit the ' +\n",
              "          '<a target=\"_blank\" href=https://colab.research.google.com/notebooks/data_table.ipynb>data table notebook</a>'\n",
              "          + ' to learn more about interactive tables.';\n",
              "        element.innerHTML = '';\n",
              "        dataTable['output_type'] = 'display_data';\n",
              "        await google.colab.output.renderOutput(dataTable, element);\n",
              "        const docLink = document.createElement('div');\n",
              "        docLink.innerHTML = docLinkHtml;\n",
              "        element.appendChild(docLink);\n",
              "      }\n",
              "    </script>\n",
              "  </div>\n",
              "\n",
              "\n",
              "<div id=\"df-98c4de21-cc53-4a75-a844-0b9361b21a45\">\n",
              "  <button class=\"colab-df-quickchart\" onclick=\"quickchart('df-98c4de21-cc53-4a75-a844-0b9361b21a45')\"\n",
              "            title=\"Suggest charts.\"\n",
              "            style=\"display:none;\">\n",
              "\n",
              "<svg xmlns=\"http://www.w3.org/2000/svg\" height=\"24px\"viewBox=\"0 0 24 24\"\n",
              "     width=\"24px\">\n",
              "    <g>\n",
              "        <path d=\"M19 3H5c-1.1 0-2 .9-2 2v14c0 1.1.9 2 2 2h14c1.1 0 2-.9 2-2V5c0-1.1-.9-2-2-2zM9 17H7v-7h2v7zm4 0h-2V7h2v10zm4 0h-2v-4h2v4z\"/>\n",
              "    </g>\n",
              "</svg>\n",
              "  </button>\n",
              "\n",
              "<style>\n",
              "  .colab-df-quickchart {\n",
              "      --bg-color: #E8F0FE;\n",
              "      --fill-color: #1967D2;\n",
              "      --hover-bg-color: #E2EBFA;\n",
              "      --hover-fill-color: #174EA6;\n",
              "      --disabled-fill-color: #AAA;\n",
              "      --disabled-bg-color: #DDD;\n",
              "  }\n",
              "\n",
              "  [theme=dark] .colab-df-quickchart {\n",
              "      --bg-color: #3B4455;\n",
              "      --fill-color: #D2E3FC;\n",
              "      --hover-bg-color: #434B5C;\n",
              "      --hover-fill-color: #FFFFFF;\n",
              "      --disabled-bg-color: #3B4455;\n",
              "      --disabled-fill-color: #666;\n",
              "  }\n",
              "\n",
              "  .colab-df-quickchart {\n",
              "    background-color: var(--bg-color);\n",
              "    border: none;\n",
              "    border-radius: 50%;\n",
              "    cursor: pointer;\n",
              "    display: none;\n",
              "    fill: var(--fill-color);\n",
              "    height: 32px;\n",
              "    padding: 0;\n",
              "    width: 32px;\n",
              "  }\n",
              "\n",
              "  .colab-df-quickchart:hover {\n",
              "    background-color: var(--hover-bg-color);\n",
              "    box-shadow: 0 1px 2px rgba(60, 64, 67, 0.3), 0 1px 3px 1px rgba(60, 64, 67, 0.15);\n",
              "    fill: var(--button-hover-fill-color);\n",
              "  }\n",
              "\n",
              "  .colab-df-quickchart-complete:disabled,\n",
              "  .colab-df-quickchart-complete:disabled:hover {\n",
              "    background-color: var(--disabled-bg-color);\n",
              "    fill: var(--disabled-fill-color);\n",
              "    box-shadow: none;\n",
              "  }\n",
              "\n",
              "  .colab-df-spinner {\n",
              "    border: 2px solid var(--fill-color);\n",
              "    border-color: transparent;\n",
              "    border-bottom-color: var(--fill-color);\n",
              "    animation:\n",
              "      spin 1s steps(1) infinite;\n",
              "  }\n",
              "\n",
              "  @keyframes spin {\n",
              "    0% {\n",
              "      border-color: transparent;\n",
              "      border-bottom-color: var(--fill-color);\n",
              "      border-left-color: var(--fill-color);\n",
              "    }\n",
              "    20% {\n",
              "      border-color: transparent;\n",
              "      border-left-color: var(--fill-color);\n",
              "      border-top-color: var(--fill-color);\n",
              "    }\n",
              "    30% {\n",
              "      border-color: transparent;\n",
              "      border-left-color: var(--fill-color);\n",
              "      border-top-color: var(--fill-color);\n",
              "      border-right-color: var(--fill-color);\n",
              "    }\n",
              "    40% {\n",
              "      border-color: transparent;\n",
              "      border-right-color: var(--fill-color);\n",
              "      border-top-color: var(--fill-color);\n",
              "    }\n",
              "    60% {\n",
              "      border-color: transparent;\n",
              "      border-right-color: var(--fill-color);\n",
              "    }\n",
              "    80% {\n",
              "      border-color: transparent;\n",
              "      border-right-color: var(--fill-color);\n",
              "      border-bottom-color: var(--fill-color);\n",
              "    }\n",
              "    90% {\n",
              "      border-color: transparent;\n",
              "      border-bottom-color: var(--fill-color);\n",
              "    }\n",
              "  }\n",
              "</style>\n",
              "\n",
              "  <script>\n",
              "    async function quickchart(key) {\n",
              "      const quickchartButtonEl =\n",
              "        document.querySelector('#' + key + ' button');\n",
              "      quickchartButtonEl.disabled = true;  // To prevent multiple clicks.\n",
              "      quickchartButtonEl.classList.add('colab-df-spinner');\n",
              "      try {\n",
              "        const charts = await google.colab.kernel.invokeFunction(\n",
              "            'suggestCharts', [key], {});\n",
              "      } catch (error) {\n",
              "        console.error('Error during call to suggestCharts:', error);\n",
              "      }\n",
              "      quickchartButtonEl.classList.remove('colab-df-spinner');\n",
              "      quickchartButtonEl.classList.add('colab-df-quickchart-complete');\n",
              "    }\n",
              "    (() => {\n",
              "      let quickchartButtonEl =\n",
              "        document.querySelector('#df-98c4de21-cc53-4a75-a844-0b9361b21a45 button');\n",
              "      quickchartButtonEl.style.display =\n",
              "        google.colab.kernel.accessAllowed ? 'block' : 'none';\n",
              "    })();\n",
              "  </script>\n",
              "</div>\n",
              "    </div>\n",
              "  </div>\n"
            ]
          },
          "metadata": {},
          "execution_count": 9
        }
      ]
    },
    {
      "cell_type": "markdown",
      "source": [
        "The `VocabFromReviews` encapsulates the main prepocessing steps. The words in the training data reviews constitute the tokens in our vocabulary. We order them by frequency and form a dictionary between indices and tokens. The `VocabFromReviews` class includes the method `process_and_convert_review_to_tensor` which uses the vocabulary to tokenize, index, and pad any pandas Series of reviews; it outputs a pytorch tensor."
      ],
      "metadata": {
        "id": "KXq6OghrI2ru"
      }
    },
    {
      "cell_type": "code",
      "execution_count": 10,
      "metadata": {
        "id": "X1AvXXx7ehwb"
      },
      "outputs": [],
      "source": [
        "from collections import Counter\n",
        "import itertools\n",
        "import re\n",
        "\n",
        "\n",
        "class VocabFromReviews:\n",
        "    \"\"\"\n",
        "    The Vocab takes a pd.Series of reviews, processes them into tokens by descending frequency, and creates dictionaries to move between tokens and indices\n",
        "    \"\"\"\n",
        "    def __init__(self, reviews: pd.Series, min_freq: int = 0):\n",
        "      tokenized_series = reviews.apply(\n",
        "          lambda review_text : [self.preprocess_string(word) for word in review_text.split()]\n",
        "      )\n",
        "      tokenized_list = tokenized_series.to_list()\n",
        "      tokens = list(itertools.chain.from_iterable(tokenized_list))\n",
        "      counts = Counter(tokens)\n",
        "      self.token_freqs = sorted(counts.items(), key=lambda x: x[1], reverse=True)\n",
        "      self.idx_to_token = list(sorted(set(\n",
        "          ['<unk>'] + [token for token, freq in self.token_freqs if freq >= min_freq])))\n",
        "      self.token_to_idx = {token: idx for idx, token in enumerate(self.idx_to_token)}\n",
        "\n",
        "    def preprocess_string(self, s: str):\n",
        "      \"\"\" Keep only words, and make them lower case. Remove breaks.\"\"\"\n",
        "      s = re.sub(r\"[^\\w\\s]\", '', s).lower()\n",
        "      s = re.sub(r\"\\s+\", '', s)\n",
        "      s = re.sub(r\"\\d\", '', s)\n",
        "      if s == \"br\": return \"\"\n",
        "      return s\n",
        "\n",
        "    def __len__(self):\n",
        "      return len(self.idx_to_token)\n",
        "\n",
        "    def convert_tokenized_review_to_indices(self, single_tokenized_review : list):\n",
        "      indices = []\n",
        "      for token in single_tokenized_review:\n",
        "          if token in self.token_to_idx and token:\n",
        "              indices.append(self.token_to_idx[token])\n",
        "      return indices\n",
        "\n",
        "\n",
        "    def process_and_convert_review_to_tensor(self, input_reviews: pd.Series):\n",
        "      \"\"\"\n",
        "      Take a pd.Series of reviews, tokenize, index according to the vocab dictionary, pad, and convert to a tensor\n",
        "      \"\"\"\n",
        "      indexed_series = input_reviews.apply(\n",
        "          lambda review_text :\n",
        "            self.convert_tokenized_review_to_indices(\n",
        "              [self.preprocess_string(word) for word in review_text.split()]\n",
        "          )\n",
        "      )\n",
        "      max_length = indexed_series.apply(lambda l : len(l)).max()\n",
        "      padded_indexed_series = indexed_series.apply(\n",
        "        lambda review_indices : [0]*(max_length- len(review_indices)) + review_indices\n",
        "      )\n",
        "      return torch.tensor(padded_indexed_series.values.tolist())\n"
      ]
    },
    {
      "cell_type": "markdown",
      "source": [
        "We can now create the vocab from the training data."
      ],
      "metadata": {
        "id": "1Hf24ASQJOYH"
      }
    },
    {
      "cell_type": "code",
      "execution_count": 11,
      "metadata": {
        "id": "e_fph1XBehwc"
      },
      "outputs": [],
      "source": [
        "vocab = VocabFromReviews(train_data[\"review\"], min_freq=5)"
      ]
    },
    {
      "cell_type": "markdown",
      "source": [
        "Process the training data into padded indexed tokens."
      ],
      "metadata": {
        "id": "0tqGiwIrzQck"
      }
    },
    {
      "cell_type": "code",
      "source": [
        "train_features = vocab.process_and_convert_review_to_tensor(train_data[\"review\"])\n",
        "print(f\"size of train features = {train_features.size()}\")"
      ],
      "metadata": {
        "colab": {
          "base_uri": "https://localhost:8080/"
        },
        "id": "aMOxAEIT0sa-",
        "outputId": "dde26d2b-ad3f-4ee4-b7ab-afd25fac18c0"
      },
      "execution_count": 12,
      "outputs": [
        {
          "output_type": "stream",
          "name": "stdout",
          "text": [
            "size of train features = torch.Size([25000, 2012])\n"
          ]
        }
      ]
    },
    {
      "cell_type": "markdown",
      "source": [
        "For the labels, encode a positive sentiment as 1 and a negative one as 0."
      ],
      "metadata": {
        "id": "XwZ_1uqRzZRe"
      }
    },
    {
      "cell_type": "code",
      "source": [
        "train_labels_pd = train_data[\"sentiment\"].apply(lambda s: int(s == \"positive\"))\n",
        "train_labels = torch.tensor(train_labels_pd.values.tolist()).unsqueeze(1).float()\n",
        "print(f\"size of train labels = {train_labels.size()}\")"
      ],
      "metadata": {
        "colab": {
          "base_uri": "https://localhost:8080/"
        },
        "id": "cEQs34wD4p2A",
        "outputId": "ccecb836-091d-480b-e62e-1b5847aed945"
      },
      "execution_count": 13,
      "outputs": [
        {
          "output_type": "stream",
          "name": "stdout",
          "text": [
            "size of train labels = torch.Size([25000, 1])\n"
          ]
        }
      ]
    },
    {
      "cell_type": "markdown",
      "metadata": {
        "id": "zI7zQbHhehwd"
      },
      "source": [
        "\n",
        "## 3. Model\n",
        "\n",
        "We now define the recurrent neural network model. The model is many-to-one since we input a tokenized string but output only a single value (positive/negative). Hence, we use a hidden recurrent neural network that outputs a single value at the end, and this value is plugged into a fully connected neural network."
      ]
    },
    {
      "cell_type": "code",
      "execution_count": 14,
      "metadata": {
        "id": "QjJe8O1vehwd"
      },
      "outputs": [],
      "source": [
        "class RNNHidden(nn.Module):\n",
        "    def __init__(self, num_layers, input_dim, embedding_dim, hidden_dim):\n",
        "        super().__init__()\n",
        "\n",
        "        self.embedding = nn.Embedding(input_dim, embedding_dim)\n",
        "        self.lstm = nn.LSTM(\n",
        "            input_size=embedding_dim,\n",
        "            hidden_size=hidden_dim,\n",
        "            num_layers=num_layers,\n",
        "            batch_first = True)\n",
        "\n",
        "    def forward(self, text):\n",
        "\n",
        "        #text.size() = (batch size, length of sequence)\n",
        "        embedded = self.embedding(text)\n",
        "\n",
        "        #embedded.size() = (batch_size, length of sequence)\n",
        "        _, hidden = self.lstm(embedded)\n",
        "\n",
        "        # Since this is a Many-to-One model, return only the last output\n",
        "        return hidden[-1][0]"
      ]
    },
    {
      "cell_type": "code",
      "source": [
        "INPUT_DIM = len(vocab)\n",
        "EMBEDDING_DIM = 100\n",
        "HIDDEN_DIM = 64\n",
        "OUTPUT_DIM = 1\n",
        "HIDDEN_LAYERS = 2\n",
        "\n",
        "lstm_model = nn.Sequential(\n",
        "    RNNHidden(HIDDEN_LAYERS, INPUT_DIM, EMBEDDING_DIM, HIDDEN_DIM),\n",
        "    nn.Linear(HIDDEN_DIM, OUTPUT_DIM),\n",
        "    nn.Dropout(p=0.5)\n",
        ")\n",
        "print(lstm_model)"
      ],
      "metadata": {
        "colab": {
          "base_uri": "https://localhost:8080/"
        },
        "id": "W5lCoTwtz3hc",
        "outputId": "8363db30-2e97-48ff-e596-ab8976cd58e3"
      },
      "execution_count": 15,
      "outputs": [
        {
          "output_type": "stream",
          "name": "stdout",
          "text": [
            "Sequential(\n",
            "  (0): RNNHidden(\n",
            "    (embedding): Embedding(31767, 100)\n",
            "    (lstm): LSTM(100, 64, num_layers=2, batch_first=True)\n",
            "  )\n",
            "  (1): Linear(in_features=64, out_features=1, bias=True)\n",
            "  (2): Dropout(p=0.5, inplace=False)\n",
            ")\n"
          ]
        }
      ]
    },
    {
      "cell_type": "markdown",
      "metadata": {
        "id": "-OZy2jmTehwe"
      },
      "source": [
        "## 4. Training\n",
        "\n",
        "Before training, we check is there is a GPU available. If so, the device will be the GPU."
      ]
    },
    {
      "cell_type": "code",
      "execution_count": 16,
      "metadata": {
        "colab": {
          "base_uri": "https://localhost:8080/"
        },
        "id": "zF3cBjikehwe",
        "outputId": "fb3a0f25-ff5a-4f2e-8527-3ecf0ecd447b"
      },
      "outputs": [
        {
          "output_type": "stream",
          "name": "stdout",
          "text": [
            "GPU is available\n"
          ]
        }
      ],
      "source": [
        "if torch.cuda.is_available():\n",
        "    device = torch.device(\"cuda\")\n",
        "    print(\"GPU is available\")\n",
        "else:\n",
        "    device = torch.device(\"cpu\")\n",
        "    print(\"GPU not available, CPU used\")"
      ]
    },
    {
      "cell_type": "markdown",
      "source": [
        "Next, define a binary accuracy function for evaluation."
      ],
      "metadata": {
        "id": "iahXPzFE0YW2"
      }
    },
    {
      "cell_type": "code",
      "execution_count": 17,
      "metadata": {
        "id": "Ie_4-Bp2ehwf"
      },
      "outputs": [],
      "source": [
        "def binary_accuracy(preds, y):\n",
        "    rounded_preds = torch.round(torch.sigmoid(preds))\n",
        "    correct = (rounded_preds == y).float()\n",
        "    acc = correct.sum() / len(correct)\n",
        "    return acc"
      ]
    },
    {
      "cell_type": "markdown",
      "source": [
        "We arrive at the training loop for the network."
      ],
      "metadata": {
        "id": "wblYR86rsMQW"
      }
    },
    {
      "cell_type": "code",
      "source": [
        "import tqdm\n",
        "\n",
        "def train(model, dataloader, optimizer, criterion, num_epochs, verbose=False):\n",
        "\n",
        "    # Keep track of the loss and accuracy over the epochs\n",
        "    train_loss = []\n",
        "    train_acc = []\n",
        "\n",
        "    model.train()\n",
        "    for i in tqdm.tqdm(range(num_epochs)):\n",
        "      for features, labels  in dataloader:\n",
        "\n",
        "        optimizer.zero_grad()\n",
        "        predictions = model(features)\n",
        "        loss = criterion(predictions, labels)\n",
        "        acc = binary_accuracy(predictions, labels)\n",
        "\n",
        "        loss.backward()\n",
        "        optimizer.step()\n",
        "\n",
        "        train_loss.append(loss.item())\n",
        "        train_acc.append(acc.item())\n",
        "\n",
        "      if verbose:\n",
        "        print(f\"Epoch {i+1}: loss = {round(train_loss[-1],4)}, accuracy = {round(train_acc[-1],4)}\")\n",
        "\n",
        "    return train_loss, train_acc"
      ],
      "metadata": {
        "id": "TB1U59Muw2Mc"
      },
      "execution_count": 18,
      "outputs": []
    },
    {
      "cell_type": "markdown",
      "source": [
        "Define a Dataset class for the review data. This is so that we can use the dataloader to create batches automatically."
      ],
      "metadata": {
        "id": "nldnVZFX02CB"
      }
    },
    {
      "cell_type": "code",
      "source": [
        "from torch.utils.data import Dataset\n",
        "\n",
        "class MovieReviewsDataset(Dataset):\n",
        "    def __init__(self, features, labels):\n",
        "        self.features = features\n",
        "        self.labels = labels\n",
        "\n",
        "    def __len__(self):\n",
        "        return len(self.features)\n",
        "\n",
        "    def __getitem__(self, idx):\n",
        "        return self.features[idx], self.labels[idx]"
      ],
      "metadata": {
        "id": "riVI-_X-0uSU"
      },
      "execution_count": 19,
      "outputs": []
    },
    {
      "cell_type": "markdown",
      "source": [
        "From the training dataset and the training dataloader."
      ],
      "metadata": {
        "id": "czeSc2U11AJ8"
      }
    },
    {
      "cell_type": "code",
      "source": [
        "train_dataset = MovieReviewsDataset(train_features.to(device), train_labels.to(device))\n",
        "train_loader = torch.utils.data.DataLoader(train_dataset, batch_size=128, shuffle=True)"
      ],
      "metadata": {
        "id": "jSCHtFDB002B"
      },
      "execution_count": 20,
      "outputs": []
    },
    {
      "cell_type": "markdown",
      "source": [
        "Use a stochastic gradient descent optimzer. The loss function is the binary cross entropy combined with sigmoid."
      ],
      "metadata": {
        "id": "dXOqN8_Qs56A"
      }
    },
    {
      "cell_type": "code",
      "execution_count": 21,
      "metadata": {
        "id": "gVNmHGG2ehwf"
      },
      "outputs": [],
      "source": [
        "criterion = nn.BCEWithLogitsLoss().to(device)\n",
        "lstm_model = lstm_model.to(device)\n",
        "optimizer = optim.SGD(lstm_model.parameters(), lr=1e-3)"
      ]
    },
    {
      "cell_type": "markdown",
      "source": [
        "We finally get to training the model!"
      ],
      "metadata": {
        "id": "yfvEgsJPtHwS"
      }
    },
    {
      "cell_type": "code",
      "execution_count": 22,
      "metadata": {
        "id": "NcjgJcwsehwg",
        "colab": {
          "base_uri": "https://localhost:8080/"
        },
        "outputId": "9ea3681f-630f-4876-b70f-2fa0a68fc894"
      },
      "outputs": [
        {
          "output_type": "stream",
          "name": "stderr",
          "text": [
            "  2%|▏         | 1/50 [00:10<08:35, 10.51s/it]"
          ]
        },
        {
          "output_type": "stream",
          "name": "stdout",
          "text": [
            "Epoch 1: loss = 0.7336, accuracy = 0.475\n"
          ]
        },
        {
          "output_type": "stream",
          "name": "stderr",
          "text": [
            "\r  4%|▍         | 2/50 [00:20<08:12, 10.26s/it]"
          ]
        },
        {
          "output_type": "stream",
          "name": "stdout",
          "text": [
            "Epoch 2: loss = 0.702, accuracy = 0.575\n"
          ]
        },
        {
          "output_type": "stream",
          "name": "stderr",
          "text": [
            "\r  6%|▌         | 3/50 [00:30<08:03, 10.28s/it]"
          ]
        },
        {
          "output_type": "stream",
          "name": "stdout",
          "text": [
            "Epoch 3: loss = 0.7121, accuracy = 0.425\n"
          ]
        },
        {
          "output_type": "stream",
          "name": "stderr",
          "text": [
            "\r  8%|▊         | 4/50 [00:41<07:55, 10.34s/it]"
          ]
        },
        {
          "output_type": "stream",
          "name": "stdout",
          "text": [
            "Epoch 4: loss = 0.7213, accuracy = 0.5\n"
          ]
        },
        {
          "output_type": "stream",
          "name": "stderr",
          "text": [
            "\r 10%|█         | 5/50 [00:51<07:47, 10.39s/it]"
          ]
        },
        {
          "output_type": "stream",
          "name": "stdout",
          "text": [
            "Epoch 5: loss = 0.7094, accuracy = 0.45\n"
          ]
        },
        {
          "output_type": "stream",
          "name": "stderr",
          "text": [
            "\r 12%|█▏        | 6/50 [01:02<07:38, 10.43s/it]"
          ]
        },
        {
          "output_type": "stream",
          "name": "stdout",
          "text": [
            "Epoch 6: loss = 0.6891, accuracy = 0.55\n"
          ]
        },
        {
          "output_type": "stream",
          "name": "stderr",
          "text": [
            "\r 14%|█▍        | 7/50 [01:12<07:31, 10.50s/it]"
          ]
        },
        {
          "output_type": "stream",
          "name": "stdout",
          "text": [
            "Epoch 7: loss = 0.6806, accuracy = 0.5\n"
          ]
        },
        {
          "output_type": "stream",
          "name": "stderr",
          "text": [
            "\r 16%|█▌        | 8/50 [01:23<07:25, 10.60s/it]"
          ]
        },
        {
          "output_type": "stream",
          "name": "stdout",
          "text": [
            "Epoch 8: loss = 0.6896, accuracy = 0.525\n"
          ]
        },
        {
          "output_type": "stream",
          "name": "stderr",
          "text": [
            "\r 18%|█▊        | 9/50 [01:34<07:19, 10.72s/it]"
          ]
        },
        {
          "output_type": "stream",
          "name": "stdout",
          "text": [
            "Epoch 9: loss = 0.7212, accuracy = 0.4\n"
          ]
        },
        {
          "output_type": "stream",
          "name": "stderr",
          "text": [
            "\r 20%|██        | 10/50 [01:45<07:13, 10.84s/it]"
          ]
        },
        {
          "output_type": "stream",
          "name": "stdout",
          "text": [
            "Epoch 10: loss = 0.673, accuracy = 0.5\n"
          ]
        },
        {
          "output_type": "stream",
          "name": "stderr",
          "text": [
            "\r 22%|██▏       | 11/50 [01:56<07:05, 10.90s/it]"
          ]
        },
        {
          "output_type": "stream",
          "name": "stdout",
          "text": [
            "Epoch 11: loss = 0.6904, accuracy = 0.525\n"
          ]
        },
        {
          "output_type": "stream",
          "name": "stderr",
          "text": [
            "\r 24%|██▍       | 12/50 [02:07<06:54, 10.91s/it]"
          ]
        },
        {
          "output_type": "stream",
          "name": "stdout",
          "text": [
            "Epoch 12: loss = 0.708, accuracy = 0.475\n"
          ]
        },
        {
          "output_type": "stream",
          "name": "stderr",
          "text": [
            "\r 26%|██▌       | 13/50 [02:18<06:43, 10.91s/it]"
          ]
        },
        {
          "output_type": "stream",
          "name": "stdout",
          "text": [
            "Epoch 13: loss = 0.688, accuracy = 0.675\n"
          ]
        },
        {
          "output_type": "stream",
          "name": "stderr",
          "text": [
            "\r 28%|██▊       | 14/50 [02:29<06:32, 10.90s/it]"
          ]
        },
        {
          "output_type": "stream",
          "name": "stdout",
          "text": [
            "Epoch 14: loss = 0.6903, accuracy = 0.4\n"
          ]
        },
        {
          "output_type": "stream",
          "name": "stderr",
          "text": [
            "\r 30%|███       | 15/50 [02:40<06:21, 10.89s/it]"
          ]
        },
        {
          "output_type": "stream",
          "name": "stdout",
          "text": [
            "Epoch 15: loss = 0.6701, accuracy = 0.6\n"
          ]
        },
        {
          "output_type": "stream",
          "name": "stderr",
          "text": [
            "\r 32%|███▏      | 16/50 [02:51<06:10, 10.89s/it]"
          ]
        },
        {
          "output_type": "stream",
          "name": "stdout",
          "text": [
            "Epoch 16: loss = 0.7087, accuracy = 0.375\n"
          ]
        },
        {
          "output_type": "stream",
          "name": "stderr",
          "text": [
            "\r 34%|███▍      | 17/50 [03:02<05:59, 10.90s/it]"
          ]
        },
        {
          "output_type": "stream",
          "name": "stdout",
          "text": [
            "Epoch 17: loss = 0.6849, accuracy = 0.6\n"
          ]
        },
        {
          "output_type": "stream",
          "name": "stderr",
          "text": [
            "\r 36%|███▌      | 18/50 [03:13<05:50, 10.95s/it]"
          ]
        },
        {
          "output_type": "stream",
          "name": "stdout",
          "text": [
            "Epoch 18: loss = 0.6956, accuracy = 0.425\n"
          ]
        },
        {
          "output_type": "stream",
          "name": "stderr",
          "text": [
            "\r 38%|███▊      | 19/50 [03:24<05:39, 10.96s/it]"
          ]
        },
        {
          "output_type": "stream",
          "name": "stdout",
          "text": [
            "Epoch 19: loss = 0.6887, accuracy = 0.475\n"
          ]
        },
        {
          "output_type": "stream",
          "name": "stderr",
          "text": [
            "\r 40%|████      | 20/50 [03:35<05:28, 10.96s/it]"
          ]
        },
        {
          "output_type": "stream",
          "name": "stdout",
          "text": [
            "Epoch 20: loss = 0.681, accuracy = 0.675\n"
          ]
        },
        {
          "output_type": "stream",
          "name": "stderr",
          "text": [
            "\r 42%|████▏     | 21/50 [03:46<05:17, 10.95s/it]"
          ]
        },
        {
          "output_type": "stream",
          "name": "stdout",
          "text": [
            "Epoch 21: loss = 0.703, accuracy = 0.425\n"
          ]
        },
        {
          "output_type": "stream",
          "name": "stderr",
          "text": [
            "\r 44%|████▍     | 22/50 [03:57<05:06, 10.95s/it]"
          ]
        },
        {
          "output_type": "stream",
          "name": "stdout",
          "text": [
            "Epoch 22: loss = 0.7086, accuracy = 0.475\n"
          ]
        },
        {
          "output_type": "stream",
          "name": "stderr",
          "text": [
            "\r 46%|████▌     | 23/50 [04:08<04:55, 10.95s/it]"
          ]
        },
        {
          "output_type": "stream",
          "name": "stdout",
          "text": [
            "Epoch 23: loss = 0.6896, accuracy = 0.525\n"
          ]
        },
        {
          "output_type": "stream",
          "name": "stderr",
          "text": [
            "\r 48%|████▊     | 24/50 [04:19<04:44, 10.95s/it]"
          ]
        },
        {
          "output_type": "stream",
          "name": "stdout",
          "text": [
            "Epoch 24: loss = 0.7108, accuracy = 0.475\n"
          ]
        },
        {
          "output_type": "stream",
          "name": "stderr",
          "text": [
            "\r 50%|█████     | 25/50 [04:30<04:33, 10.95s/it]"
          ]
        },
        {
          "output_type": "stream",
          "name": "stdout",
          "text": [
            "Epoch 25: loss = 0.6791, accuracy = 0.525\n"
          ]
        },
        {
          "output_type": "stream",
          "name": "stderr",
          "text": [
            "\r 52%|█████▏    | 26/50 [04:41<04:22, 10.95s/it]"
          ]
        },
        {
          "output_type": "stream",
          "name": "stdout",
          "text": [
            "Epoch 26: loss = 0.7002, accuracy = 0.475\n"
          ]
        },
        {
          "output_type": "stream",
          "name": "stderr",
          "text": [
            "\r 54%|█████▍    | 27/50 [04:51<04:11, 10.94s/it]"
          ]
        },
        {
          "output_type": "stream",
          "name": "stdout",
          "text": [
            "Epoch 27: loss = 0.6915, accuracy = 0.475\n"
          ]
        },
        {
          "output_type": "stream",
          "name": "stderr",
          "text": [
            "\r 56%|█████▌    | 28/50 [05:02<04:00, 10.95s/it]"
          ]
        },
        {
          "output_type": "stream",
          "name": "stdout",
          "text": [
            "Epoch 28: loss = 0.7114, accuracy = 0.425\n"
          ]
        },
        {
          "output_type": "stream",
          "name": "stderr",
          "text": [
            "\r 58%|█████▊    | 29/50 [05:13<03:50, 10.95s/it]"
          ]
        },
        {
          "output_type": "stream",
          "name": "stdout",
          "text": [
            "Epoch 29: loss = 0.6684, accuracy = 0.575\n"
          ]
        },
        {
          "output_type": "stream",
          "name": "stderr",
          "text": [
            "\r 60%|██████    | 30/50 [05:24<03:39, 10.96s/it]"
          ]
        },
        {
          "output_type": "stream",
          "name": "stdout",
          "text": [
            "Epoch 30: loss = 0.6745, accuracy = 0.55\n"
          ]
        },
        {
          "output_type": "stream",
          "name": "stderr",
          "text": [
            "\r 62%|██████▏   | 31/50 [05:35<03:28, 10.97s/it]"
          ]
        },
        {
          "output_type": "stream",
          "name": "stdout",
          "text": [
            "Epoch 31: loss = 0.6909, accuracy = 0.55\n"
          ]
        },
        {
          "output_type": "stream",
          "name": "stderr",
          "text": [
            "\r 64%|██████▍   | 32/50 [05:46<03:17, 10.96s/it]"
          ]
        },
        {
          "output_type": "stream",
          "name": "stdout",
          "text": [
            "Epoch 32: loss = 0.66, accuracy = 0.525\n"
          ]
        },
        {
          "output_type": "stream",
          "name": "stderr",
          "text": [
            "\r 66%|██████▌   | 33/50 [05:57<03:06, 10.96s/it]"
          ]
        },
        {
          "output_type": "stream",
          "name": "stdout",
          "text": [
            "Epoch 33: loss = 0.6941, accuracy = 0.475\n"
          ]
        },
        {
          "output_type": "stream",
          "name": "stderr",
          "text": [
            "\r 68%|██████▊   | 34/50 [06:08<02:55, 10.97s/it]"
          ]
        },
        {
          "output_type": "stream",
          "name": "stdout",
          "text": [
            "Epoch 34: loss = 0.6994, accuracy = 0.425\n"
          ]
        },
        {
          "output_type": "stream",
          "name": "stderr",
          "text": [
            "\r 70%|███████   | 35/50 [06:19<02:44, 10.96s/it]"
          ]
        },
        {
          "output_type": "stream",
          "name": "stdout",
          "text": [
            "Epoch 35: loss = 0.6909, accuracy = 0.575\n"
          ]
        },
        {
          "output_type": "stream",
          "name": "stderr",
          "text": [
            "\r 72%|███████▏  | 36/50 [06:30<02:33, 10.97s/it]"
          ]
        },
        {
          "output_type": "stream",
          "name": "stdout",
          "text": [
            "Epoch 36: loss = 0.6997, accuracy = 0.425\n"
          ]
        },
        {
          "output_type": "stream",
          "name": "stderr",
          "text": [
            "\r 74%|███████▍  | 37/50 [06:41<02:22, 10.96s/it]"
          ]
        },
        {
          "output_type": "stream",
          "name": "stdout",
          "text": [
            "Epoch 37: loss = 0.684, accuracy = 0.475\n"
          ]
        },
        {
          "output_type": "stream",
          "name": "stderr",
          "text": [
            "\r 76%|███████▌  | 38/50 [06:52<02:11, 10.96s/it]"
          ]
        },
        {
          "output_type": "stream",
          "name": "stdout",
          "text": [
            "Epoch 38: loss = 0.674, accuracy = 0.625\n"
          ]
        },
        {
          "output_type": "stream",
          "name": "stderr",
          "text": [
            "\r 78%|███████▊  | 39/50 [07:03<02:00, 10.96s/it]"
          ]
        },
        {
          "output_type": "stream",
          "name": "stdout",
          "text": [
            "Epoch 39: loss = 0.6814, accuracy = 0.525\n"
          ]
        },
        {
          "output_type": "stream",
          "name": "stderr",
          "text": [
            "\r 80%|████████  | 40/50 [07:14<01:49, 10.96s/it]"
          ]
        },
        {
          "output_type": "stream",
          "name": "stdout",
          "text": [
            "Epoch 40: loss = 0.6729, accuracy = 0.55\n"
          ]
        },
        {
          "output_type": "stream",
          "name": "stderr",
          "text": [
            "\r 82%|████████▏ | 41/50 [07:25<01:38, 10.96s/it]"
          ]
        },
        {
          "output_type": "stream",
          "name": "stdout",
          "text": [
            "Epoch 41: loss = 0.6858, accuracy = 0.575\n"
          ]
        },
        {
          "output_type": "stream",
          "name": "stderr",
          "text": [
            "\r 84%|████████▍ | 42/50 [07:36<01:27, 10.96s/it]"
          ]
        },
        {
          "output_type": "stream",
          "name": "stdout",
          "text": [
            "Epoch 42: loss = 0.7073, accuracy = 0.55\n"
          ]
        },
        {
          "output_type": "stream",
          "name": "stderr",
          "text": [
            "\r 86%|████████▌ | 43/50 [07:47<01:16, 10.94s/it]"
          ]
        },
        {
          "output_type": "stream",
          "name": "stdout",
          "text": [
            "Epoch 43: loss = 0.6818, accuracy = 0.575\n"
          ]
        },
        {
          "output_type": "stream",
          "name": "stderr",
          "text": [
            "\r 88%|████████▊ | 44/50 [07:58<01:05, 10.95s/it]"
          ]
        },
        {
          "output_type": "stream",
          "name": "stdout",
          "text": [
            "Epoch 44: loss = 0.6999, accuracy = 0.45\n"
          ]
        },
        {
          "output_type": "stream",
          "name": "stderr",
          "text": [
            "\r 90%|█████████ | 45/50 [08:09<00:54, 10.95s/it]"
          ]
        },
        {
          "output_type": "stream",
          "name": "stdout",
          "text": [
            "Epoch 45: loss = 0.701, accuracy = 0.425\n"
          ]
        },
        {
          "output_type": "stream",
          "name": "stderr",
          "text": [
            "\r 92%|█████████▏| 46/50 [08:20<00:43, 10.96s/it]"
          ]
        },
        {
          "output_type": "stream",
          "name": "stdout",
          "text": [
            "Epoch 46: loss = 0.6637, accuracy = 0.575\n"
          ]
        },
        {
          "output_type": "stream",
          "name": "stderr",
          "text": [
            "\r 94%|█████████▍| 47/50 [08:31<00:32, 10.95s/it]"
          ]
        },
        {
          "output_type": "stream",
          "name": "stdout",
          "text": [
            "Epoch 47: loss = 0.6897, accuracy = 0.6\n"
          ]
        },
        {
          "output_type": "stream",
          "name": "stderr",
          "text": [
            "\r 96%|█████████▌| 48/50 [08:41<00:21, 10.93s/it]"
          ]
        },
        {
          "output_type": "stream",
          "name": "stdout",
          "text": [
            "Epoch 48: loss = 0.6903, accuracy = 0.55\n"
          ]
        },
        {
          "output_type": "stream",
          "name": "stderr",
          "text": [
            "\r 98%|█████████▊| 49/50 [08:52<00:10, 10.94s/it]"
          ]
        },
        {
          "output_type": "stream",
          "name": "stdout",
          "text": [
            "Epoch 49: loss = 0.684, accuracy = 0.625\n"
          ]
        },
        {
          "output_type": "stream",
          "name": "stderr",
          "text": [
            "100%|██████████| 50/50 [09:04<00:00, 10.89s/it]"
          ]
        },
        {
          "output_type": "stream",
          "name": "stdout",
          "text": [
            "Epoch 50: loss = 0.6698, accuracy = 0.6\n"
          ]
        },
        {
          "output_type": "stream",
          "name": "stderr",
          "text": [
            "\n"
          ]
        }
      ],
      "source": [
        "loss, acc = train(lstm_model, train_loader,\n",
        "    optimizer=optimizer, criterion=criterion, num_epochs=50, verbose=True)"
      ]
    },
    {
      "cell_type": "markdown",
      "source": [
        "Now plot how the accuracy and loss change over the course of training."
      ],
      "metadata": {
        "id": "MKN9-iu_tKhn"
      }
    },
    {
      "cell_type": "code",
      "source": [
        "plt.plot(acc)\n",
        "plt.xlabel(\"batch\")\n",
        "plt.ylabel(\"accuracy\")\n",
        "plt.title(\"Plot of accuracy during training\")\n",
        "plt.show()"
      ],
      "metadata": {
        "colab": {
          "base_uri": "https://localhost:8080/",
          "height": 472
        },
        "id": "x1RW8HhLKkD8",
        "outputId": "e581c2c5-cec7-46c8-ca10-8757e3cc4c22"
      },
      "execution_count": 23,
      "outputs": [
        {
          "output_type": "display_data",
          "data": {
            "text/plain": [
              "<Figure size 640x480 with 1 Axes>"
            ],
            "image/png": "[encoded data removed]"
          },
          "metadata": {}
        }
      ]
    },
    {
      "cell_type": "code",
      "source": [
        "plt.plot(loss)\n",
        "plt.xlabel(\"epoch\")\n",
        "plt.ylabel(\"loss\")\n",
        "plt.title(\"Plot of loss during training\")\n",
        "plt.show()"
      ],
      "metadata": {
        "colab": {
          "base_uri": "https://localhost:8080/",
          "height": 472
        },
        "id": "CdEoSvbc9oCU",
        "outputId": "e1c8059d-6f5d-400d-acff-eade2c8318bd"
      },
      "execution_count": 24,
      "outputs": [
        {
          "output_type": "display_data",
          "data": {
            "text/plain": [
              "<Figure size 640x480 with 1 Axes>"
            ],
            "image/png": "[encoded data removed]"
          },
          "metadata": {}
        }
      ]
    },
    {
      "cell_type": "markdown",
      "source": [
        "### Evaluation\n",
        "\n",
        "Finally, evaluate the model on the test set. We first have the evaluation function:"
      ],
      "metadata": {
        "id": "LF9i2k4-tPqz"
      }
    },
    {
      "cell_type": "code",
      "source": [
        "def evaluate(model, features, labels, criterion, verbose=False):\n",
        "    model.eval()\n",
        "    with torch.no_grad():\n",
        "        predictions = model(features)\n",
        "        loss = criterion(predictions, labels)\n",
        "        acc = binary_accuracy(predictions, labels)\n",
        "    if verbose:\n",
        "      print(f\"The test loss is {round(loss.item(), 4)}\")\n",
        "      print(f\"The test accuracy is {round(acc.item(), 4)}\")\n",
        "    return loss , acc"
      ],
      "metadata": {
        "id": "uT8yNhmsnM7y"
      },
      "execution_count": 25,
      "outputs": []
    },
    {
      "cell_type": "markdown",
      "source": [
        "Next, we obtain the test features and labels."
      ],
      "metadata": {
        "id": "SoV5QOQw2lXp"
      }
    },
    {
      "cell_type": "code",
      "source": [
        "test_features = vocab.process_and_convert_review_to_tensor(test_data[\"review\"])\n",
        "print(f\"size of test features = {test_features.size()}\")\n",
        "\n",
        "test_labels_pd = test_data[\"sentiment\"].apply(lambda s: int(s == \"positive\"))\n",
        "test_labels = torch.tensor(test_labels_pd.values.tolist()).unsqueeze(1).float()\n",
        "print(f\"size of test labels = {test_labels.size()}\")"
      ],
      "metadata": {
        "colab": {
          "base_uri": "https://localhost:8080/"
        },
        "id": "otuh8nk_v6Y9",
        "outputId": "35b417c1-e720-41c5-db36-9cebdd416119"
      },
      "execution_count": 26,
      "outputs": [
        {
          "output_type": "stream",
          "name": "stdout",
          "text": [
            "size of test features = torch.Size([25000, 2316])\n",
            "size of test labels = torch.Size([25000, 1])\n"
          ]
        }
      ]
    },
    {
      "cell_type": "markdown",
      "source": [
        "Finally, evaluate the model on the test set. We need to do this with only part of the data at a time to keep within the GPU capacity."
      ],
      "metadata": {
        "id": "IoK5GiYV27rb"
      }
    },
    {
      "cell_type": "code",
      "source": [
        "test_loss_list = []\n",
        "test_acc_list = []\n",
        "i = 0\n",
        "while i+500 < len(test_features):\n",
        "  test_loss, test_acc = evaluate(\n",
        "    model= lstm_model,\n",
        "    features= test_features[i:i+500].to(device),\n",
        "    labels = test_labels[i:i+500].to(device),\n",
        "    criterion=criterion,\n",
        "    verbose = False\n",
        "  )\n",
        "  test_loss_list.append(test_loss.item())\n",
        "  test_acc_list.append(test_acc.item())\n",
        "  i += 500\n",
        "\n",
        "mean_loss = sum(test_loss_list)/ len(test_loss_list)\n",
        "mean_acc = sum(test_acc_list)/ len(test_acc_list)\n",
        "\n",
        "print(f\"The test loss is {round(mean_loss, 4)}\")\n",
        "print(f\"The test accuracy is {round(mean_acc, 4)}\")\n"
      ],
      "metadata": {
        "id": "hASdF855EmDN",
        "colab": {
          "base_uri": "https://localhost:8080/"
        },
        "outputId": "52df0ac0-2101-469f-d68f-7553eff04d54"
      },
      "execution_count": 27,
      "outputs": [
        {
          "output_type": "stream",
          "name": "stdout",
          "text": [
            "The test loss is 0.6877\n",
            "The test accuracy is 0.541\n"
          ]
        }
      ]
    },
    {
      "cell_type": "code",
      "source": [],
      "metadata": {
        "id": "xWnLl8Xt13gj"
      },
      "execution_count": 27,
      "outputs": []
    }
  ],
  "metadata": {
    "kernelspec": {
      "display_name": "Python 3",
      "name": "python3"
    },
    "language_info": {
      "codemirror_mode": {
        "name": "ipython",
        "version": 3
      },
      "file_extension": ".py",
      "mimetype": "text/x-python",
      "name": "python",
      "nbconvert_exporter": "python",
      "pygments_lexer": "ipython3",
      "version": "3.11.5"
    },
    "orig_nbformat": 4,
    "colab": {
      "provenance": [],
      "gpuType": "T4"
    },
    "accelerator": "GPU"
  },
  "nbformat": 4,
  "nbformat_minor": 0
}