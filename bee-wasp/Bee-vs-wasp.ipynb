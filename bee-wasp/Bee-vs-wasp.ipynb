{
 "cells": [
  {
   "cell_type": "markdown",
   "id": "radio-equivalent",
   "metadata": {
    "heading_collapsed": true
   },
   "source": [
    "# First steps"
   ]
  },
  {
   "cell_type": "markdown",
   "id": "suitable-belief",
   "metadata": {
    "heading_collapsed": true,
    "hidden": true
   },
   "source": [
    "### Imports"
   ]
  },
  {
   "cell_type": "code",
   "execution_count": 1,
   "id": "tutorial-graph",
   "metadata": {
    "hidden": true
   },
   "outputs": [],
   "source": [
    "import numpy as np\n",
    "import torch\n",
    "from matplotlib import pyplot as plt"
   ]
  },
  {
   "cell_type": "markdown",
   "id": "through-violin",
   "metadata": {
    "heading_collapsed": true,
    "hidden": true
   },
   "source": [
    "### Download data from Kaggle"
   ]
  },
  {
   "cell_type": "markdown",
   "id": "speaking-innocent",
   "metadata": {
    "hidden": true
   },
   "source": [
    "We use Kaggle's Public API (https://www.kaggle.com/docs/api). See also https://www.youtube.com/watch?v=gkEbaMgvLs8"
   ]
  },
  {
   "cell_type": "code",
   "execution_count": 2,
   "id": "growing-orbit",
   "metadata": {
    "hidden": true,
    "scrolled": false
   },
   "outputs": [
    {
     "name": "stdout",
     "output_type": "stream",
     "text": [
      "Warning: Your Kaggle API key is readable by other users on this system! To fix this, you can run 'chmod 600 /Users/iordanganev/.kaggle/kaggle.json'\n",
      "bee-vs-wasp.zip: Skipping, found more recently modified local copy (use --force to force download)\n"
     ]
    }
   ],
   "source": [
    "!kaggle datasets download jerzydziewierz/bee-vs-wasp"
   ]
  },
  {
   "cell_type": "code",
   "execution_count": 3,
   "id": "early-thirty",
   "metadata": {
    "hidden": true
   },
   "outputs": [],
   "source": [
    "!unzip -q -o bee-vs-wasp.zip "
   ]
  },
  {
   "cell_type": "code",
   "execution_count": 4,
   "id": "compressed-india",
   "metadata": {
    "hidden": true
   },
   "outputs": [
    {
     "name": "stdout",
     "output_type": "stream",
     "text": [
      "Bee-vs-wasp-with-PyTorch.ipynb bee-vs-wasp.zip\r\n",
      "README.md                      \u001b[34mkaggle_bee_vs_wasp\u001b[m\u001b[m\r\n"
     ]
    }
   ],
   "source": [
    "!ls"
   ]
  },
  {
   "cell_type": "markdown",
   "id": "innocent-patient",
   "metadata": {
    "heading_collapsed": true
   },
   "source": [
    "# Data Processing"
   ]
  },
  {
   "cell_type": "markdown",
   "id": "cleared-topic",
   "metadata": {
    "heading_collapsed": true,
    "hidden": true
   },
   "source": [
    "#### Import the labels"
   ]
  },
  {
   "cell_type": "code",
   "execution_count": 5,
   "id": "interested-praise",
   "metadata": {
    "hidden": true
   },
   "outputs": [
    {
     "data": {
      "text/plain": [
       "(numpy.ndarray,\n",
       " (11421, 10),\n",
       " ['id',\n",
       "  'path',\n",
       "  'is_bee',\n",
       "  'is_wasp',\n",
       "  'is_otherinsect',\n",
       "  'is_other',\n",
       "  'photo_quality',\n",
       "  'is_validation',\n",
       "  'is_final_validation',\n",
       "  'label'])"
      ]
     },
     "execution_count": 5,
     "metadata": {},
     "output_type": "execute_result"
    }
   ],
   "source": [
    "import csv\n",
    "labels_path = \"kaggle_bee_vs_wasp/labels.csv\"\n",
    "labels_numpy = np.loadtxt(labels_path, dtype=np.str, delimiter=\",\", skiprows=1)\n",
    "col_list = next(csv.reader(open(labels_path), delimiter=','))\n",
    "type(labels_numpy), labels_numpy.shape, col_list"
   ]
  },
  {
   "cell_type": "code",
   "execution_count": 6,
   "id": "threatened-college",
   "metadata": {
    "hidden": true
   },
   "outputs": [],
   "source": [
    "class_names = ['bee','wasp','otherinsect','other']\n",
    "num_classes = 4\n",
    "classes_map = {'bee': 0, 'wasp': 1, 'otherinsect': 2,  'other':3 }"
   ]
  },
  {
   "cell_type": "code",
   "execution_count": 7,
   "id": "respiratory-imaging",
   "metadata": {
    "hidden": true
   },
   "outputs": [],
   "source": [
    "## Convert label indices to an integer\n",
    "\n",
    "def retrieve_label(idx):\n",
    "    label_one_hot = labels_numpy[idx][2:6].astype('int32')\n",
    "    assert label_one_hot.sum() == 1 and all(label_one_hot >= 0)\n",
    "    return sum([label_one_hot[j]*classes_map[class_names[j]] for j in range(4)]) "
   ]
  },
  {
   "cell_type": "markdown",
   "id": "distinct-georgia",
   "metadata": {
    "heading_collapsed": true,
    "hidden": true
   },
   "source": [
    "#### Collect indices\n",
    "\n",
    "Collect the indices of the high-quality training examples, the validation examples, and the final validation examples"
   ]
  },
  {
   "cell_type": "code",
   "execution_count": 8,
   "id": "private-spain",
   "metadata": {
    "hidden": true
   },
   "outputs": [
    {
     "name": "stdout",
     "output_type": "stream",
     "text": [
      "Number of training images: 4908\n",
      "Number of validation images: 1719\n",
      "Number of final validation images: 1763\n"
     ]
    }
   ],
   "source": [
    "train_ids = []\n",
    "val_ids = []\n",
    "final_val_ids = []\n",
    "\n",
    "for i in range(len(labels_numpy)):\n",
    "    if labels_numpy[i][6] == '1' and labels_numpy[i][7] == '0' and labels_numpy[i][8] == '0':\n",
    "        train_ids.append(i)\n",
    "        \n",
    "    elif labels_numpy[i][7] == '1':\n",
    "        val_ids.append(i)\n",
    "        \n",
    "    elif labels_numpy[i][8] == '1':\n",
    "        final_val_ids.append(i)\n",
    "        \n",
    "num_train = len(train_ids)\n",
    "num_val = len(val_ids)\n",
    "num_final_val = len(final_val_ids)\n",
    "print(f\"Number of training images: %d\" % num_train)\n",
    "print(f\"Number of validation images: %d\" % num_val)\n",
    "print(f\"Number of final validation images: %d\" % num_final_val)\n",
    "\n",
    "#train_ids[:20]"
   ]
  },
  {
   "cell_type": "markdown",
   "id": "innocent-peninsula",
   "metadata": {
    "heading_collapsed": true,
    "hidden": true
   },
   "source": [
    "#### Import the images\n",
    "\n",
    "Process the images and put them into the data_train tensor"
   ]
  },
  {
   "cell_type": "code",
   "execution_count": 9,
   "id": "black-fault",
   "metadata": {
    "hidden": true
   },
   "outputs": [],
   "source": [
    "from torchvision import transforms\n",
    "\n",
    "preprocess = transforms.Compose([transforms.Resize((256,256)), transforms.ToTensor()])"
   ]
  },
  {
   "cell_type": "code",
   "execution_count": 10,
   "id": "critical-opportunity",
   "metadata": {
    "hidden": true
   },
   "outputs": [],
   "source": [
    "from PIL import Image\n",
    "import os\n",
    "import tqdm"
   ]
  },
  {
   "cell_type": "code",
   "execution_count": 11,
   "id": "careful-missouri",
   "metadata": {
    "hidden": true
   },
   "outputs": [
    {
     "name": "stderr",
     "output_type": "stream",
     "text": [
      "100%|██████████| 4908/4908 [00:17<00:00, 287.54it/s]"
     ]
    },
    {
     "name": "stdout",
     "output_type": "stream",
     "text": [
      "Number of images skipped due to an error:  2\n"
     ]
    },
    {
     "name": "stderr",
     "output_type": "stream",
     "text": [
      "\n"
     ]
    }
   ],
   "source": [
    "# This may take around 20 seconds\n",
    "error_counter = 0\n",
    "data_train = []\n",
    "\n",
    "for idx in tqdm.tqdm(train_ids):\n",
    "    folder, filename = labels_numpy[idx][1].split('\\\\')\n",
    "    file_path = 'kaggle_bee_vs_wasp/' + folder + '/' + filename \n",
    "    img = Image.open(file_path)\n",
    "    img_t = preprocess(img)\n",
    "    \n",
    "    if img_t.shape[0] != 3:\n",
    "        error_counter += 1\n",
    "    else:\n",
    "        data_train.append((img_t, retrieve_label(idx)))\n",
    "        \n",
    "print(\"Number of images skipped due to an error: \", error_counter)"
   ]
  },
  {
   "cell_type": "code",
   "execution_count": 12,
   "id": "affecting-project",
   "metadata": {
    "hidden": true
   },
   "outputs": [
    {
     "name": "stderr",
     "output_type": "stream",
     "text": [
      "100%|██████████| 1719/1719 [00:12<00:00, 136.77it/s]\n"
     ]
    }
   ],
   "source": [
    "# This may take up to 15 seconds\n",
    "data_val = []\n",
    "\n",
    "for idx in tqdm.tqdm(val_ids):\n",
    "    folder, filename = labels_numpy[idx][1].split('\\\\')\n",
    "    file_path = 'kaggle_bee_vs_wasp/' + folder + '/' + filename \n",
    "    img = Image.open(file_path)\n",
    "    img_t = preprocess(img)\n",
    "    data_val.append((img_t, retrieve_label(idx)))"
   ]
  },
  {
   "cell_type": "code",
   "execution_count": 13,
   "id": "african-calculator",
   "metadata": {
    "hidden": true
   },
   "outputs": [
    {
     "name": "stderr",
     "output_type": "stream",
     "text": [
      "100%|██████████| 1763/1763 [00:13<00:00, 132.18it/s]\n"
     ]
    }
   ],
   "source": [
    "# This may take up to 15 seconds\n",
    "data_final_val = []\n",
    "\n",
    "for idx in tqdm.tqdm(final_val_ids):\n",
    "    folder, filename = labels_numpy[idx][1].split('\\\\')\n",
    "    file_path = 'kaggle_bee_vs_wasp/' + folder + '/' + filename \n",
    "    img = Image.open(file_path)\n",
    "    img_t = preprocess(img)\n",
    "    data_final_val.append((img_t, retrieve_label(idx)))"
   ]
  },
  {
   "cell_type": "markdown",
   "id": "blocked-productivity",
   "metadata": {
    "heading_collapsed": true,
    "hidden": true
   },
   "source": [
    "#### Normalize the data"
   ]
  },
  {
   "cell_type": "code",
   "execution_count": 14,
   "id": "resident-wireless",
   "metadata": {
    "hidden": true
   },
   "outputs": [
    {
     "data": {
      "text/plain": [
       "(list, torch.Size([3, 256, 256]))"
      ]
     },
     "execution_count": 14,
     "metadata": {},
     "output_type": "execute_result"
    }
   ],
   "source": [
    "type(data_train), data_train[578][0].shape"
   ]
  },
  {
   "cell_type": "code",
   "execution_count": 15,
   "id": "awful-economy",
   "metadata": {
    "hidden": true
   },
   "outputs": [],
   "source": [
    "#imgs = torch.stack([img_t for img_t, _ in data_train], dim=3)\n",
    "#imgs.shape"
   ]
  },
  {
   "cell_type": "code",
   "execution_count": 16,
   "id": "fallen-costs",
   "metadata": {
    "hidden": true
   },
   "outputs": [],
   "source": [
    "#imgs.view(3, -1).mean(dim=1)  # <1>"
   ]
  },
  {
   "cell_type": "code",
   "execution_count": 17,
   "id": "smart-particular",
   "metadata": {
    "hidden": true
   },
   "outputs": [],
   "source": [
    "#imgs.view(3, -1).std(dim=1)"
   ]
  },
  {
   "cell_type": "code",
   "execution_count": 18,
   "id": "animated-adjustment",
   "metadata": {
    "hidden": true
   },
   "outputs": [
    {
     "name": "stderr",
     "output_type": "stream",
     "text": [
      "100%|██████████| 4906/4906 [00:34<00:00, 140.68it/s]\n"
     ]
    }
   ],
   "source": [
    "## This may take about 30-40 seconds\n",
    "\n",
    "normalization = transforms.Normalize((0.5226, 0.5086, 0.3374), (0.2613, 0.2464, 0.2691))\n",
    "data_train_transformed = []\n",
    "\n",
    "for img, label in tqdm.tqdm(data_train):\n",
    "    data_train_transformed.append((normalization(img), label))"
   ]
  },
  {
   "cell_type": "code",
   "execution_count": 19,
   "id": "military-hygiene",
   "metadata": {
    "hidden": true
   },
   "outputs": [
    {
     "name": "stderr",
     "output_type": "stream",
     "text": [
      "Clipping input data to the valid range for imshow with RGB data ([0..1] for floats or [0..255] for integers).\n"
     ]
    },
    {
     "data": {
      "image/png": "[encoded data removed]",
      "text/plain": [
       "<Figure size 432x288 with 1 Axes>"
      ]
     },
     "metadata": {
      "needs_background": "light"
     },
     "output_type": "display_data"
    }
   ],
   "source": [
    "img_t, _ = data_train_transformed[0]\n",
    "plt.imshow(img_t.permute(1,2, 0))\n",
    "plt.show()"
   ]
  },
  {
   "cell_type": "markdown",
   "id": "muslim-breakfast",
   "metadata": {
    "heading_collapsed": true,
    "hidden": true
   },
   "source": [
    "#### Quick sanity check that the normalization works!"
   ]
  },
  {
   "cell_type": "code",
   "execution_count": 20,
   "id": "deadly-collect",
   "metadata": {
    "hidden": true
   },
   "outputs": [
    {
     "data": {
      "text/plain": [
       "(tensor([0.0535, 0.0425, 0.0054]), tensor([1.0239, 1.0213, 1.0273]))"
      ]
     },
     "execution_count": 20,
     "metadata": {},
     "output_type": "execute_result"
    }
   ],
   "source": [
    "random_indices = torch.rand(300)*num_train\n",
    "data_sample_normalized = normalization(torch.stack([data_train[int(i)][0] for i in random_indices]))\n",
    "\n",
    "sample_means = torch.mean(data_sample_normalized, [0,2,3], keepdim=True).reshape(3,)\n",
    "sample_stds = torch.std(data_sample_normalized, [0,2,3], keepdim=True).reshape(3,)\n",
    "\n",
    "torch.round(10000*sample_means)/10000, torch.round(10000*sample_stds)/10000"
   ]
  },
  {
   "cell_type": "markdown",
   "id": "binding-surname",
   "metadata": {
    "heading_collapsed": true
   },
   "source": [
    "# Convolutional neural network"
   ]
  },
  {
   "cell_type": "code",
   "execution_count": 21,
   "id": "golden-wildlife",
   "metadata": {
    "hidden": true
   },
   "outputs": [],
   "source": [
    "import torch.nn as nn\n",
    "import torch.nn.functional as F\n",
    "import torch.optim as optim"
   ]
  },
  {
   "cell_type": "code",
   "execution_count": 22,
   "id": "mediterranean-kennedy",
   "metadata": {
    "hidden": true
   },
   "outputs": [
    {
     "data": {
      "text/plain": [
       "(list, torch.Size([3, 256, 256]))"
      ]
     },
     "execution_count": 22,
     "metadata": {},
     "output_type": "execute_result"
    }
   ],
   "source": [
    "type(data_train), data_train[578][0].shape"
   ]
  },
  {
   "cell_type": "code",
   "execution_count": 23,
   "id": "sunrise-fifteen",
   "metadata": {
    "hidden": true
   },
   "outputs": [],
   "source": [
    "class Net(nn.Module):\n",
    "    def __init__(self):\n",
    "        super().__init__()\n",
    "        self.conv1 = nn.Conv2d(3, 8, kernel_size=3, padding=1)\n",
    "        self.conv2 = nn.Conv2d(8, 4, kernel_size=3, padding=1)\n",
    "        self.fc1 = nn.Linear(4 * 64 * 64, 8)\n",
    "        self.fc2 = nn.Linear(8, 4)\n",
    "        \n",
    "    def forward(self, x):\n",
    "        out = F.max_pool2d(torch.tanh(self.conv1(x)), 2)\n",
    "        out = F.max_pool2d(torch.tanh(self.conv2(out)), 2)\n",
    "        out = out.view(-1, 4 * 64 * 64)\n",
    "        out = torch.tanh(self.fc1(out))\n",
    "        out = self.fc2(out)\n",
    "        return out"
   ]
  },
  {
   "cell_type": "code",
   "execution_count": 24,
   "id": "personal-survival",
   "metadata": {
    "hidden": true
   },
   "outputs": [
    {
     "data": {
      "text/plain": [
       "(131632, [216, 8, 288, 4, 131072, 8, 32, 4])"
      ]
     },
     "execution_count": 24,
     "metadata": {},
     "output_type": "execute_result"
    }
   ],
   "source": [
    "ex_net = Net()\n",
    "\n",
    "numel_list = [p.numel() for p in ex_net.parameters()]\n",
    "sum(numel_list), numel_list"
   ]
  },
  {
   "cell_type": "code",
   "execution_count": 25,
   "id": "liked-donna",
   "metadata": {
    "hidden": true
   },
   "outputs": [
    {
     "name": "stdout",
     "output_type": "stream",
     "text": [
      "torch.Size([1, 3, 256, 256])\n"
     ]
    },
    {
     "data": {
      "text/plain": [
       "tensor([[ 0.4156,  0.3542,  0.1754, -0.0687]], grad_fn=<AddmmBackward>)"
      ]
     },
     "execution_count": 25,
     "metadata": {},
     "output_type": "execute_result"
    }
   ],
   "source": [
    "ex_img = data_train[578][0].unsqueeze(0)\n",
    "print(ex_img.shape)\n",
    "ex_net(ex_img)"
   ]
  },
  {
   "cell_type": "markdown",
   "id": "rubber-mirror",
   "metadata": {
    "hidden": true
   },
   "source": [
    "### Next steps:"
   ]
  },
  {
   "cell_type": "code",
   "execution_count": 26,
   "id": "applicable-minister",
   "metadata": {
    "hidden": true
   },
   "outputs": [],
   "source": [
    "## Check this:\n",
    "train_loader = torch.utils.data.DataLoader(data_train, batch_size=8, shuffle=True) \n",
    "val_loader = torch.utils.data.DataLoader(data_val, batch_size=8, shuffle=True) "
   ]
  },
  {
   "cell_type": "code",
   "execution_count": 27,
   "id": "finished-testament",
   "metadata": {
    "hidden": true
   },
   "outputs": [],
   "source": [
    "import datetime\n",
    "\n",
    "def training_loop(n_epochs, optimizer, model, loss_fn, train_loader):\n",
    "    for epoch in range(1, n_epochs + 1): \n",
    "        loss_train = 0.0\n",
    "        for imgs, labels in tqdm.tqdm(train_loader): \n",
    "            \n",
    "            outputs = model(imgs) \n",
    "            loss = loss_fn(outputs, labels) \n",
    "\n",
    "            optimizer.zero_grad() \n",
    "            loss.backward()\n",
    "            optimizer.step() \n",
    "\n",
    "            loss_train += loss.item() \n",
    "\n",
    "        print('{} Epoch {}, Training loss {}'.format(\n",
    "            datetime.datetime.now(), epoch,\n",
    "            loss_train / len(train_loader)))  # <10>\n",
    "            \n",
    "#         if epoch == 1 or epoch % 10 == 0:\n",
    "#             print('{} Epoch {}, Training loss {}'.format(\n",
    "#                 datetime.datetime.now(), epoch,\n",
    "#                 loss_train / len(train_loader)))  # <10>"
   ]
  },
  {
   "cell_type": "code",
   "execution_count": 28,
   "id": "private-guess",
   "metadata": {
    "hidden": true
   },
   "outputs": [
    {
     "name": "stderr",
     "output_type": "stream",
     "text": [
      "100%|██████████| 614/614 [01:01<00:00,  9.99it/s]\n",
      "  0%|          | 1/614 [00:00<02:00,  5.08it/s]"
     ]
    },
    {
     "name": "stdout",
     "output_type": "stream",
     "text": [
      "2021-06-28 14:52:11.451678 Epoch 1, Training loss 1.0865748669309025\n"
     ]
    },
    {
     "name": "stderr",
     "output_type": "stream",
     "text": [
      "100%|██████████| 614/614 [00:37<00:00, 16.56it/s]\n",
      "  0%|          | 2/614 [00:00<00:40, 15.30it/s]"
     ]
    },
    {
     "name": "stdout",
     "output_type": "stream",
     "text": [
      "2021-06-28 14:52:48.527298 Epoch 2, Training loss 0.971307198077149\n"
     ]
    },
    {
     "name": "stderr",
     "output_type": "stream",
     "text": [
      "100%|██████████| 614/614 [00:35<00:00, 17.29it/s]\n",
      "  0%|          | 2/614 [00:00<00:41, 14.80it/s]"
     ]
    },
    {
     "name": "stdout",
     "output_type": "stream",
     "text": [
      "2021-06-28 14:53:24.032425 Epoch 3, Training loss 0.9290770652433948\n"
     ]
    },
    {
     "name": "stderr",
     "output_type": "stream",
     "text": [
      "100%|██████████| 614/614 [00:35<00:00, 17.47it/s]\n",
      "  0%|          | 2/614 [00:00<00:43, 14.20it/s]"
     ]
    },
    {
     "name": "stdout",
     "output_type": "stream",
     "text": [
      "2021-06-28 14:53:59.180716 Epoch 4, Training loss 0.9035552308594365\n"
     ]
    },
    {
     "name": "stderr",
     "output_type": "stream",
     "text": [
      "100%|██████████| 614/614 [00:35<00:00, 17.16it/s]\n",
      "  0%|          | 2/614 [00:00<00:38, 15.69it/s]"
     ]
    },
    {
     "name": "stdout",
     "output_type": "stream",
     "text": [
      "2021-06-28 14:54:34.966603 Epoch 5, Training loss 0.8764823838243267\n"
     ]
    },
    {
     "name": "stderr",
     "output_type": "stream",
     "text": [
      "100%|██████████| 614/614 [00:35<00:00, 17.53it/s]\n",
      "  0%|          | 2/614 [00:00<00:38, 15.96it/s]"
     ]
    },
    {
     "name": "stdout",
     "output_type": "stream",
     "text": [
      "2021-06-28 14:55:09.989566 Epoch 6, Training loss 0.8612210146281929\n"
     ]
    },
    {
     "name": "stderr",
     "output_type": "stream",
     "text": [
      "100%|██████████| 614/614 [00:35<00:00, 17.52it/s]\n",
      "  0%|          | 2/614 [00:00<00:41, 14.85it/s]"
     ]
    },
    {
     "name": "stdout",
     "output_type": "stream",
     "text": [
      "2021-06-28 14:55:45.044958 Epoch 7, Training loss 0.8518356880361172\n"
     ]
    },
    {
     "name": "stderr",
     "output_type": "stream",
     "text": [
      "100%|██████████| 614/614 [00:35<00:00, 17.25it/s]\n",
      "  0%|          | 2/614 [00:00<00:38, 15.74it/s]"
     ]
    },
    {
     "name": "stdout",
     "output_type": "stream",
     "text": [
      "2021-06-28 14:56:20.631889 Epoch 8, Training loss 0.8563647555605984\n"
     ]
    },
    {
     "name": "stderr",
     "output_type": "stream",
     "text": [
      "100%|██████████| 614/614 [00:35<00:00, 17.13it/s]\n",
      "  0%|          | 2/614 [00:00<00:40, 15.13it/s]"
     ]
    },
    {
     "name": "stdout",
     "output_type": "stream",
     "text": [
      "2021-06-28 14:56:56.482062 Epoch 9, Training loss 0.8590750649134576\n"
     ]
    },
    {
     "name": "stderr",
     "output_type": "stream",
     "text": [
      "100%|██████████| 614/614 [00:38<00:00, 15.96it/s]\n",
      "  0%|          | 2/614 [00:00<00:48, 12.60it/s]"
     ]
    },
    {
     "name": "stdout",
     "output_type": "stream",
     "text": [
      "2021-06-28 14:57:34.951127 Epoch 10, Training loss 0.8334981346144933\n"
     ]
    },
    {
     "name": "stderr",
     "output_type": "stream",
     "text": [
      "100%|██████████| 614/614 [00:39<00:00, 15.66it/s]\n",
      "  0%|          | 2/614 [00:00<00:40, 14.98it/s]"
     ]
    },
    {
     "name": "stdout",
     "output_type": "stream",
     "text": [
      "2021-06-28 14:58:14.166091 Epoch 11, Training loss 0.8083393820333947\n"
     ]
    },
    {
     "name": "stderr",
     "output_type": "stream",
     "text": [
      "100%|██████████| 614/614 [00:35<00:00, 17.40it/s]\n",
      "  0%|          | 2/614 [00:00<00:39, 15.48it/s]"
     ]
    },
    {
     "name": "stdout",
     "output_type": "stream",
     "text": [
      "2021-06-28 14:58:49.454973 Epoch 12, Training loss 0.8010808931062975\n"
     ]
    },
    {
     "name": "stderr",
     "output_type": "stream",
     "text": [
      "100%|██████████| 614/614 [00:35<00:00, 17.08it/s]\n",
      "  0%|          | 2/614 [00:00<00:40, 15.17it/s]"
     ]
    },
    {
     "name": "stdout",
     "output_type": "stream",
     "text": [
      "2021-06-28 14:59:25.398647 Epoch 13, Training loss 0.798906147625625\n"
     ]
    },
    {
     "name": "stderr",
     "output_type": "stream",
     "text": [
      "100%|██████████| 614/614 [00:39<00:00, 15.38it/s]\n",
      "  0%|          | 2/614 [00:00<00:40, 15.10it/s]"
     ]
    },
    {
     "name": "stdout",
     "output_type": "stream",
     "text": [
      "2021-06-28 15:00:05.331105 Epoch 14, Training loss 0.7902743038554533\n"
     ]
    },
    {
     "name": "stderr",
     "output_type": "stream",
     "text": [
      "100%|██████████| 614/614 [00:37<00:00, 16.58it/s]\n",
      "  0%|          | 2/614 [00:00<00:39, 15.62it/s]"
     ]
    },
    {
     "name": "stdout",
     "output_type": "stream",
     "text": [
      "2021-06-28 15:00:42.370233 Epoch 15, Training loss 0.8024923998486335\n"
     ]
    },
    {
     "name": "stderr",
     "output_type": "stream",
     "text": [
      "100%|██████████| 614/614 [00:35<00:00, 17.06it/s]\n",
      "  0%|          | 2/614 [00:00<00:40, 14.99it/s]"
     ]
    },
    {
     "name": "stdout",
     "output_type": "stream",
     "text": [
      "2021-06-28 15:01:18.357868 Epoch 16, Training loss 0.7775017897498335\n"
     ]
    },
    {
     "name": "stderr",
     "output_type": "stream",
     "text": [
      "100%|██████████| 614/614 [00:35<00:00, 17.16it/s]\n",
      "  0%|          | 2/614 [00:00<00:41, 14.74it/s]"
     ]
    },
    {
     "name": "stdout",
     "output_type": "stream",
     "text": [
      "2021-06-28 15:01:54.132884 Epoch 17, Training loss 0.7559126038893038\n"
     ]
    },
    {
     "name": "stderr",
     "output_type": "stream",
     "text": [
      "100%|██████████| 614/614 [00:37<00:00, 16.57it/s]\n",
      "  0%|          | 2/614 [00:00<00:41, 14.60it/s]"
     ]
    },
    {
     "name": "stdout",
     "output_type": "stream",
     "text": [
      "2021-06-28 15:02:31.185481 Epoch 18, Training loss 0.7745122325391257\n"
     ]
    },
    {
     "name": "stderr",
     "output_type": "stream",
     "text": [
      "100%|██████████| 614/614 [00:37<00:00, 16.39it/s]\n",
      "  0%|          | 2/614 [00:00<00:42, 14.53it/s]"
     ]
    },
    {
     "name": "stdout",
     "output_type": "stream",
     "text": [
      "2021-06-28 15:03:08.659071 Epoch 19, Training loss 0.7535879430922312\n"
     ]
    },
    {
     "name": "stderr",
     "output_type": "stream",
     "text": [
      "100%|██████████| 614/614 [00:37<00:00, 16.51it/s]"
     ]
    },
    {
     "name": "stdout",
     "output_type": "stream",
     "text": [
      "2021-06-28 15:03:45.849418 Epoch 20, Training loss 0.7351143734365799\n"
     ]
    },
    {
     "name": "stderr",
     "output_type": "stream",
     "text": [
      "\n"
     ]
    }
   ],
   "source": [
    "model = Net()  #  <2>\n",
    "optimizer = optim.SGD(model.parameters(), lr=1e-2)  #  <3>\n",
    "loss_fn = nn.CrossEntropyLoss()  #  <4>\n",
    "\n",
    "training_loop(  # <5>\n",
    "    n_epochs = 20,\n",
    "    optimizer = optimizer,\n",
    "    model = model,\n",
    "    loss_fn = loss_fn,\n",
    "    train_loader = train_loader,\n",
    ")"
   ]
  },
  {
   "cell_type": "code",
   "execution_count": 30,
   "id": "employed-approach",
   "metadata": {
    "hidden": true
   },
   "outputs": [
    {
     "name": "stderr",
     "output_type": "stream",
     "text": [
      "100%|██████████| 614/614 [00:20<00:00, 29.52it/s]\n",
      "  1%|          | 2/215 [00:00<00:17, 12.27it/s]"
     ]
    },
    {
     "name": "stdout",
     "output_type": "stream",
     "text": [
      "Accuracy train: 0.72\n"
     ]
    },
    {
     "name": "stderr",
     "output_type": "stream",
     "text": [
      "100%|██████████| 215/215 [00:13<00:00, 16.21it/s]"
     ]
    },
    {
     "name": "stdout",
     "output_type": "stream",
     "text": [
      "Accuracy val: 0.57\n"
     ]
    },
    {
     "name": "stderr",
     "output_type": "stream",
     "text": [
      "\n"
     ]
    }
   ],
   "source": [
    "def validate(model, train_loader, val_loader):\n",
    "    for name, loader in [(\"train\", train_loader), (\"val\", val_loader)]:\n",
    "        correct = 0\n",
    "        total = 0\n",
    "\n",
    "        with torch.no_grad():  # <1>\n",
    "            for imgs, labels in tqdm.tqdm(loader):\n",
    "                outputs = model(imgs)\n",
    "                _, predicted = torch.max(outputs, dim=1) # <2>\n",
    "                total += labels.shape[0]  # <3>\n",
    "                correct += int((predicted == labels).sum())  # <4>\n",
    "\n",
    "        print(\"Accuracy {}: {:.2f}\".format(name , correct / total))\n",
    "\n",
    "validate(model, train_loader, val_loader)"
   ]
  },
  {
   "cell_type": "code",
   "execution_count": null,
   "id": "toxic-separation",
   "metadata": {
    "hidden": true
   },
   "outputs": [],
   "source": []
  }
 ],
 "metadata": {
  "kernelspec": {
   "display_name": "Python 3",
   "language": "python",
   "name": "python3"
  },
  "language_info": {
   "codemirror_mode": {
    "name": "ipython",
    "version": 3
   },
   "file_extension": ".py",
   "mimetype": "text/x-python",
   "name": "python",
   "nbconvert_exporter": "python",
   "pygments_lexer": "ipython3",
   "version": "3.8.2"
  }
 },
 "nbformat": 4,
 "nbformat_minor": 5
}
